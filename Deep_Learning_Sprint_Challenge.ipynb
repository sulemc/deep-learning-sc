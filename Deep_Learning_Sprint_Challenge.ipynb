{
  "nbformat": 4,
  "nbformat_minor": 0,
  "metadata": {
    "colab": {
      "name": "Deep Learning Sprint Challenge.ipynb",
      "version": "0.3.2",
      "provenance": [],
      "include_colab_link": true
    },
    "kernelspec": {
      "name": "python3",
      "display_name": "Python 3"
    },
    "accelerator": "GPU"
  },
  "cells": [
    {
      "cell_type": "markdown",
      "metadata": {
        "id": "view-in-github",
        "colab_type": "text"
      },
      "source": [
        "[View in Colaboratory](https://colab.research.google.com/github/sulemc/deep-learning-sc/blob/master/Deep_Learning_Sprint_Challenge.ipynb)"
      ]
    },
    {
      "metadata": {
        "id": "2cvuSd_BAf9s",
        "colab_type": "text"
      },
      "cell_type": "markdown",
      "source": [
        "# Computer Vision\n",
        "\n"
      ]
    },
    {
      "metadata": {
        "id": "_uBv9TtuTXX0",
        "colab_type": "text"
      },
      "cell_type": "markdown",
      "source": [
        "Select an RGB image of your choosing from somewhere on the internet. \n",
        "\n",
        "Import the image and display it."
      ]
    },
    {
      "metadata": {
        "id": "gDuwiVepNraq",
        "colab_type": "code",
        "colab": {}
      },
      "cell_type": "code",
      "source": [
        "##### Your Code Here #####"
      ],
      "execution_count": 0,
      "outputs": []
    },
    {
      "metadata": {
        "id": "78ey-3t9Tuyc",
        "colab_type": "text"
      },
      "cell_type": "markdown",
      "source": [
        "Generate a grayscale version of the image and display it again."
      ]
    },
    {
      "metadata": {
        "id": "9M21nO6bTzaE",
        "colab_type": "code",
        "colab": {}
      },
      "cell_type": "code",
      "source": [
        "##### Your Code Here #####"
      ],
      "execution_count": 0,
      "outputs": []
    },
    {
      "metadata": {
        "id": "f7xQxiFJT3AI",
        "colab_type": "text"
      },
      "cell_type": "markdown",
      "source": [
        "Use Canny Edge Detection to find the edges in the image. Display the Canny Edge Detection image. "
      ]
    },
    {
      "metadata": {
        "id": "bmTNE1zVUDYX",
        "colab_type": "code",
        "colab": {}
      },
      "cell_type": "code",
      "source": [
        "##### Your Code Here #####"
      ],
      "execution_count": 0,
      "outputs": []
    },
    {
      "metadata": {
        "id": "2y9FSvncUTk7",
        "colab_type": "text"
      },
      "cell_type": "markdown",
      "source": [
        "Compute the convolution of the image with the following Difference of Gaussian (DoG) filter: "
      ]
    },
    {
      "metadata": {
        "id": "GGFq8s6eUVvT",
        "colab_type": "code",
        "colab": {}
      },
      "cell_type": "code",
      "source": [
        "##### Your Code Here #####"
      ],
      "execution_count": 0,
      "outputs": []
    },
    {
      "metadata": {
        "id": "4VxWN7hWAjE8",
        "colab_type": "text"
      },
      "cell_type": "markdown",
      "source": [
        "# Deep Convolutional Neural Networks\n",
        "\n"
      ]
    },
    {
      "metadata": {
        "id": "jv8H1W5HZl4J",
        "colab_type": "text"
      },
      "cell_type": "markdown",
      "source": [
        "Use the softmax function to transform the following vector to probability values:\n",
        "\n",
        "$\\begin{bmatrix}\n",
        "4&5&9&2\n",
        "\\end{bmatrix}$"
      ]
    },
    {
      "metadata": {
        "id": "t_gKo0wbaUMi",
        "colab_type": "code",
        "colab": {}
      },
      "cell_type": "code",
      "source": [
        "##### Your Code Here #####"
      ],
      "execution_count": 0,
      "outputs": []
    },
    {
      "metadata": {
        "id": "_ePGK2gPaTXo",
        "colab_type": "text"
      },
      "cell_type": "markdown",
      "source": [
        "Use the Keras library to classify the images of the MNIST-fashion dataset using a simple convolutional neural network. This dataset is just like MNIST but has grayscale images of different articles of clothing. It also has 10 classes, so any code that works on the MNIST dataset should work on this dataset without modification. I'll help you with the image preparation, and will limit the number of classes to 2 for fast training times. We will focus only on classifying pullovers and shirts."
      ]
    },
    {
      "metadata": {
        "id": "xEzEcJP2bW_I",
        "colab_type": "code",
        "colab": {
          "base_uri": "https://localhost:8080/",
          "height": 255
        },
        "outputId": "38545062-1046-4bff-ca34-2247a808f4c6"
      },
      "cell_type": "code",
      "source": [
        "import numpy as np\n",
        "import matplotlib.pyplot as plt\n",
        "import keras\n",
        "from keras.datasets import fashion_mnist\n",
        "from keras.utils import to_categorical\n",
        "from keras.models import Sequential\n",
        "from keras.layers import Dense, Dropout, Flatten, Conv2D, MaxPooling2D\n",
        "from keras import backend as K\n",
        "\n",
        "# the data, shuffled and split between train and test sets\n",
        "(x_train, y_train), (x_test, y_test) = fashion_mnist.load_data()\n",
        "\n",
        "# What are the dimensions of a single image?\n",
        "print(x_train[0].shape)\n",
        "\n",
        "# input image dimensions\n",
        "img_rows, img_cols = 28,28\n",
        "\n",
        "if K.backend()=='tensorflow':\n",
        "    K.set_image_dim_ordering(\"th\")\n",
        "    \n",
        "print(K.image_data_format())\n",
        "\n",
        "if K.image_data_format() == 'channels_first':\n",
        "    x_train = x_train.reshape(x_train.shape[0], 1, img_rows, img_cols)\n",
        "    x_test = x_test.reshape(x_test.shape[0], 1, img_rows, img_cols)\n",
        "    input_shape = (1, img_rows, img_cols)\n",
        "else:\n",
        "    x_train = x_train.reshape(x_train.shape[0], img_rows, img_cols, 1)\n",
        "    x_test = x_test.reshape(x_test.shape[0], img_rows, img_cols, 1)\n",
        "    input_shape = (img_rows, img_cols, 1)\n",
        "\n",
        "#Only look at 2s and 7s\n",
        "num_classes = 2\n",
        "\n",
        "# Create boolean arrays for train and test\n",
        "train_picks = np.logical_or(y_train==2,y_train==6)\n",
        "test_picks = np.logical_or(y_test==2,y_test==6)\n",
        "\n",
        "# Filter train and test based on boolean arrays\n",
        "x_train = x_train[train_picks]\n",
        "x_test = x_test[test_picks]\n",
        "y_train = np.array(y_train[train_picks]==2,dtype=int)\n",
        "y_test = np.array(y_test[test_picks]==2,dtype=int)\n",
        "\n",
        "# Scale pixel values to be floats between 0 and 1\n",
        "x_train = x_train.astype('float32')\n",
        "x_test = x_test.astype('float32')\n",
        "x_train /= 255\n",
        "x_test /= 255\n",
        "\n",
        "print('x_train shape:', x_train.shape)\n",
        "print(x_train.shape[0], 'train samples')\n",
        "print(x_test.shape[0], 'test samples')\n",
        "\n",
        "# convert class vectors to binary class matrices\n",
        "y_train = to_categorical(y_train, num_classes)\n",
        "y_test = to_categorical(y_test, num_classes)"
      ],
      "execution_count": 24,
      "outputs": [
        {
          "output_type": "stream",
          "text": [
            "Using TensorFlow backend.\n"
          ],
          "name": "stderr"
        },
        {
          "output_type": "stream",
          "text": [
            "Downloading data from http://fashion-mnist.s3-website.eu-central-1.amazonaws.com/train-labels-idx1-ubyte.gz\n",
            "32768/29515 [=================================] - 0s 0us/step\n",
            "Downloading data from http://fashion-mnist.s3-website.eu-central-1.amazonaws.com/train-images-idx3-ubyte.gz\n",
            "26427392/26421880 [==============================] - 1s 0us/step\n",
            "Downloading data from http://fashion-mnist.s3-website.eu-central-1.amazonaws.com/t10k-labels-idx1-ubyte.gz\n",
            "8192/5148 [===============================================] - 0s 0us/step\n",
            "Downloading data from http://fashion-mnist.s3-website.eu-central-1.amazonaws.com/t10k-images-idx3-ubyte.gz\n",
            "4423680/4422102 [==============================] - 0s 0us/step\n",
            "(28, 28)\n",
            "channels_first\n",
            "x_train shape: (12000, 1, 28, 28)\n",
            "12000 train samples\n",
            "2000 test samples\n"
          ],
          "name": "stdout"
        }
      ]
    },
    {
      "metadata": {
        "id": "cr50t8AtegBg",
        "colab_type": "code",
        "colab": {}
      },
      "cell_type": "code",
      "source": [
        "##### Your Code Here #####"
      ],
      "execution_count": 0,
      "outputs": []
    },
    {
      "metadata": {
        "id": "CyQO-RgsfgkE",
        "colab_type": "text"
      },
      "cell_type": "markdown",
      "source": [
        "Plot your validation and test accuracies by epoch."
      ]
    },
    {
      "metadata": {
        "id": "6yEKE168fp-y",
        "colab_type": "code",
        "colab": {}
      },
      "cell_type": "code",
      "source": [
        "##### Your Code Here #####"
      ],
      "execution_count": 0,
      "outputs": []
    },
    {
      "metadata": {
        "id": "liB4Lh_ofs-w",
        "colab_type": "text"
      },
      "cell_type": "markdown",
      "source": [
        "### If you have time left over, go start a blog post about one specific Deep Learning-related topic that you would like to understand better. Possible Ideas:\n",
        "\n",
        "Input Dimensions - RGB vs Grayscale, Channels First, vs Channels Last.\n",
        "\n",
        "Convolutional Layers - How are they calculated? How to use padding to preserve layer dimensions?\n",
        "\n",
        "Why does Relu Activation outperform other types of activation for CNNs?\n",
        "\n",
        "Max Pooling vs Average Pooling? Why is max pooling better? Why pass on the highest value?\n",
        "\n",
        "How does backpropagation work in CNNs?\n",
        "\n",
        "Hyperparameter Tuning CNNs\n",
        "\n",
        "Picking optimal Batch Size\n",
        "\n",
        "Picking the optimal Number of Filters / kernel size\n",
        "\n",
        "Brief History of Computer Vision\n",
        "\n",
        "Summary of Most impactful CNN Architectures i.e. LeNet, AlexNet, ResNet, GoogleNet, etc. \n",
        "\n",
        "Matrices for Image Filtering\n",
        "\n",
        "Edge Detection Methods\n",
        "\n",
        "Keras vs Tensorflow\n",
        "\n",
        "### There are so many things that you could write about!!\n",
        "\n",
        "\n",
        "\n",
        "\n"
      ]
    }
  ]
}